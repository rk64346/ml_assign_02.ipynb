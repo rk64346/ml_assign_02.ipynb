{
 "cells": [
  {
   "cell_type": "markdown",
   "id": "40d4c1d2-367b-4ff3-914a-807e5e1b87af",
   "metadata": {},
   "source": [
    "Q1: Define overfitting and underfitting in machine learning. What are the consequences of each, and how\n",
    "can they be mitigated?"
   ]
  },
  {
   "cell_type": "markdown",
   "id": "931b5a5f-d25b-4d1f-9a70-2dffcb3feb51",
   "metadata": {},
   "source": [
    "overfittingg : if we train a data and the model is trained with have high accuracy but in testing the model the accuracy go down this condition we can called as overfitting \n",
    "\n",
    "\n",
    "underfitting : if we tarain aactual data with low accuracy and while testing the model it is also low with high bias and variance is called as underfitting "
   ]
  },
  {
   "cell_type": "markdown",
   "id": "6782abb1-ac1f-48ba-a640-e850fd548466",
   "metadata": {},
   "source": [
    "Q2: How can we reduce overfitting? Explain in brief."
   ]
  },
  {
   "cell_type": "markdown",
   "id": "36eb1bce-2ee4-4faa-9384-5ac39cfdcf7b",
   "metadata": {},
   "source": [
    "To reduce overfitting, you can use the following strategies:\n",
    "\n",
    "Increase Training Data:\n",
    "\n",
    "Providing more diverse and representative data to the model can help it learn a more generalized pattern and reduce the chances of overfitting.\n",
    "Feature Selection:\n",
    "\n",
    "Choose the most relevant features and remove any that may introduce noise or are not informative for the task.\n",
    "Regularization:\n",
    "\n",
    "Techniques like L1 (Lasso) and L2 (Ridge) regularization penalize large coefficients in linear models. This discourages the model from relying too heavily on any one feature.\n",
    "Cross-Validation:\n",
    "\n",
    "Use techniques like k-fold cross-validation to evaluate the model's performance on different subsets of the data. This can help identify if the model is consistently performing well or if it's overfitting."
   ]
  },
  {
   "cell_type": "markdown",
   "id": "115cc4cb-98d1-40c3-9d19-a9e0e57b7bc2",
   "metadata": {},
   "source": [
    "Explain underfitting. List scenarios where underfitting can occur in ML."
   ]
  },
  {
   "cell_type": "markdown",
   "id": "d12784ad-b96e-4e0f-97ec-7a3f298c1a76",
   "metadata": {},
   "source": [
    "underfitting : if we tarain aactual data with low accuracy and while testing the model it is also low with high bias and variance is called as underfitting\n",
    "\n",
    "with high bias and high variance is can nlead to underfitting \n",
    "\n",
    "eg: we train amodel on abook but having low accuracy and while testing it is also low "
   ]
  },
  {
   "cell_type": "markdown",
   "id": "d12c57a8-e6e0-4681-9f92-7a306d26194b",
   "metadata": {},
   "source": [
    "Q4: Explain the bias-variance tradeoff in machine learning. What is the relationship between bias and\n",
    "variance, and how do they affect model performance?"
   ]
  },
  {
   "cell_type": "markdown",
   "id": "1b9108a8-c7b9-4d74-af7d-50f9ea05f688",
   "metadata": {},
   "source": [
    "bias and variance have significant role in the ML tradeoff if the low bias and high variance leads to overfitting, high bias and high variance leads to underfitting ,  but with low bias and low variance leads to generalised model "
   ]
  },
  {
   "cell_type": "markdown",
   "id": "f5d6e5b0-0707-4159-80c1-8ac482a7b37e",
   "metadata": {},
   "source": [
    "Q5: Discuss some common methods for detecting overfitting and underfitting in machine learning models.\n",
    "How can you determine whether your model is overfitting or underfitting?"
   ]
  },
  {
   "cell_type": "markdown",
   "id": "4d1ca1bd-afb8-410b-a040-1eacc1715ac8",
   "metadata": {},
   "source": [
    "we can predict by analysing the biases and variance if the lowbias and high variance leads to overfitting , and in case of high bias and high variance leads to under fitting \n"
   ]
  },
  {
   "cell_type": "markdown",
   "id": "9b19e650-07e4-411e-8143-34c302b293f9",
   "metadata": {},
   "source": [
    "Q6: Compare and contrast bias and variance in machine learning. What are some examples of high bias\n",
    "and high variance models, and how do they differ in terms of their performance?"
   ]
  },
  {
   "cell_type": "markdown",
   "id": "4024b155-c4cb-440d-9a49-69f33498c9e5",
   "metadata": {},
   "source": [
    "Bias is the error introduced by a model's simplicity, leading to oversimplified assumptions. High bias models are too basic and underfit, performing poorly on both training and unseen data.\n",
    "\n",
    "Variance is the sensitivity of a model to fluctuations in the training data. High variance models are overly complex, capturing noise and leading to overfitting. They perform well on training data but poorly on unseen data.\n",
    "\n",
    "Finding the right balance between bias and variance is crucial for good generalization. Techniques like cross-validation and regularization help achieve this balance. Examples of high bias models include simple linear regression, while high variance models include decision trees with unlimited depth."
   ]
  },
  {
   "cell_type": "markdown",
   "id": "14610383-75ed-49c2-91c5-1d5dbc25981a",
   "metadata": {},
   "source": [
    "Q7: What is regularization in machine learning, and how can it be used to prevent overfitting? Describe\n",
    "some common regularization techniques and how they work."
   ]
  },
  {
   "cell_type": "markdown",
   "id": "0dc17f5d-bffa-44a8-932f-87798b244793",
   "metadata": {},
   "source": [
    "Regularization involves adding a penalty term to the model's objective function. This penalty discourages the model from assigning too much importance to any one feature or from fitting the training data too closely.\n",
    "\n",
    "Common Techniques:\n",
    "\n",
    "L1 (Lasso) Regularization:\n",
    "\n",
    "How it works: Adds the absolute values of the coefficients to the objective function.\n",
    "Effect: Encourages sparsity by driving some coefficients to zero, effectively excluding certain features."
   ]
  },
  {
   "cell_type": "code",
   "execution_count": null,
   "id": "cd9eb513-6f92-45b9-9887-f060e086d9c6",
   "metadata": {},
   "outputs": [],
   "source": []
  }
 ],
 "metadata": {
  "kernelspec": {
   "display_name": "Python 3 (ipykernel)",
   "language": "python",
   "name": "python3"
  },
  "language_info": {
   "codemirror_mode": {
    "name": "ipython",
    "version": 3
   },
   "file_extension": ".py",
   "mimetype": "text/x-python",
   "name": "python",
   "nbconvert_exporter": "python",
   "pygments_lexer": "ipython3",
   "version": "3.10.8"
  }
 },
 "nbformat": 4,
 "nbformat_minor": 5
}
